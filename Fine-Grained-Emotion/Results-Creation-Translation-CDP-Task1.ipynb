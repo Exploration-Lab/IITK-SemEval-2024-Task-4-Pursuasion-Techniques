{
 "cells": [
  {
   "cell_type": "code",
   "execution_count": 36,
   "id": "e8b3d66c-8a44-49b8-94eb-ef1bfa3b3985",
   "metadata": {},
   "outputs": [
    {
     "name": "stdout",
     "output_type": "stream",
     "text": [
      "JSON data has been saved to: CDP_emo_dev_eng.json\n",
      "JSON data has been saved to: CDP_emo_test_eng.json\n",
      "JSON data has been saved to: CDP_emo_test_arab.json\n",
      "JSON data has been saved to: CDP_emo_test_bulg.json\n",
      "JSON data has been saved to: CDP_emo_test_mace.json\n"
     ]
    }
   ],
   "source": [
    "import matplotlib.pyplot as plt\n",
    "import numpy as np\n",
    "loaded_array = np.load('test-6000-ensm-test-final.npy')\n",
    "df = pd.read_csv('Merged_test_for_CDP.csv').drop(['Unnamed: 0','text'],axis=1)\n",
    "df.rename(columns={'aug_text':'text','label':'emo'}, inplace=True)\n",
    "df[\"emo\"] = '9,6'\n",
    "df_test_full = df\n",
    "abnormal_peaks_per_row = []\n",
    "threshold = 0.3\n",
    "for row in loaded_array:\n",
    "    abnormal_peaks = list(np.where(row > threshold)[0])\n",
    "    abnormal_peaks_per_row.append(abnormal_peaks)\n",
    "\n",
    "final_list = []\n",
    "idx2label = {idx: label for label, idx in dict_mapping.items()}\n",
    "for x in abnormal_peaks_per_row:\n",
    "    y = []\n",
    "    for d in x:\n",
    "        y.append(idx2label[d])\n",
    "    final_list.append(y)\n",
    "\n",
    "df_test_full['labels'] = final_list\n",
    "test_eng = df_test_full[1000:1000+1500]\n",
    "test_arab = df_test_full[1000+1500:1000+1500+100]\n",
    "test_bulg = df_test_full[1000+1500+100:1000+1500+100+436]\n",
    "test_mace = df_test_full[1000+1500+100+436:]\n",
    "\n",
    "def json_saving(df,json_file_path):\n",
    "    dict_list = []\n",
    "    columns_to_include = ['labels', 'id']\n",
    "    for index, row in df.iterrows():    \n",
    "        row_dict = {column: row[column] for column in columns_to_include}\n",
    "        dict_list.append(row_dict)\n",
    "    json_string = json.dumps(dict_list,indent = 2)\n",
    "    with open(json_file_path, 'w') as json_file:\n",
    "        json_file.write(json_string)\n",
    "    print(f'JSON data has been saved to: {json_file_path}')\n",
    "\n",
    "json_saving(test_eng,\"CDP_emo_test_eng_Task1.json\")\n",
    "json_saving(test_arab,\"CDP_emo_test_arab_Task1.json\")\n",
    "json_saving(test_bulg,\"CDP_emo_test_bulg_Task1.json\")\n",
    "json_saving(test_mace,\"CDP_emo_test_mace_Task1.json\")"
   ]
  }
 ],
 "metadata": {
  "kernelspec": {
   "display_name": "Python 3 (ipykernel)",
   "language": "python",
   "name": "python3"
  },
  "language_info": {
   "codemirror_mode": {
    "name": "ipython",
    "version": 3
   },
   "file_extension": ".py",
   "mimetype": "text/x-python",
   "name": "python",
   "nbconvert_exporter": "python",
   "pygments_lexer": "ipython3",
   "version": "3.9.18"
  }
 },
 "nbformat": 4,
 "nbformat_minor": 5
}
